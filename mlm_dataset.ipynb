{
 "cells": [
  {
   "cell_type": "code",
   "execution_count": 9,
   "id": "2fa62c32-58d8-42c7-a68d-0db8a4cbae43",
   "metadata": {},
   "outputs": [],
   "source": [
    "import re\n",
    "import pandas as pd\n",
    "import numpy as np\n",
    "from sklearn.model_selection import train_test_split\n",
    "from datasets import Dataset, DatasetDict, load_dataset, concatenate_datasets\n",
    "\n",
    "from utils import Ansi\n",
    "\n",
    "SEED = 42"
   ]
  },
  {
   "cell_type": "code",
   "execution_count": 2,
   "id": "07d76f7a-fdc9-4195-95c1-3b39fdac24d1",
   "metadata": {},
   "outputs": [
    {
     "data": {
      "text/plain": [
       "Dataset({\n",
       "    features: ['text'],\n",
       "    num_rows: 10635000\n",
       "})"
      ]
     },
     "execution_count": 2,
     "metadata": {},
     "output_type": "execute_result"
    }
   ],
   "source": [
    "dataset1 = load_dataset('ai-forever/ru-reviews-classification').select_columns(['text']) #75k\n",
    "dataset2 = load_dataset('ai-forever/georeview-classification').select_columns(['text']) #60k\n",
    "dataset3 = load_dataset('d0rj/geo-reviews-dataset-2023').select_columns(['text']) #500k\n",
    "dataset4 = load_dataset('blankbuffoon/wb-reviews-5mln').select_columns(['text']) #10M\n",
    "\n",
    "ru_reviews_dataset = concatenate_datasets([\n",
    "    *dataset1.values(), \n",
    "    *dataset2.values(), \n",
    "    *dataset3.values(), \n",
    "    *dataset4.values(),\n",
    "])\n",
    "\n",
    "ru_reviews_dataset"
   ]
  },
  {
   "cell_type": "code",
   "execution_count": 3,
   "id": "ef204ed8-0abe-4794-9837-aaad3372d63f",
   "metadata": {},
   "outputs": [
    {
     "name": "stdout",
     "output_type": "stream",
     "text": [
      "`>>>  Очень крутой журнал для любителей дачи и цветов. Бери любой вариант, высаживай и жди красоты\n",
      "`>>>  Спасибо, всё пришло целое\n",
      "`>>>  Просто класс. Уже несколько стирок, но цвет и качество не изменилось.\n",
      "`>>>  Мега няшные подкрадульки. Всё по размеру, дефектов не наблюдаю\n",
      "`>>>  Гобелен не может быть мягким, (но он не наждачка, просто плотный); не особо понежиться можно, лежа на них, но супер объемное, праздничное настроение эти наволочки  приносят в дом! Качество - великолепное\n"
     ]
    }
   ],
   "source": [
    "random_indices = np.random.choice(len(ru_reviews_dataset), 5, replace=False)\n",
    "for idx in random_indices:\n",
    "    print('`>>> ', ru_reviews_dataset[int(idx)]['text'])"
   ]
  },
  {
   "cell_type": "code",
   "execution_count": 6,
   "id": "c3955fc1-e0d0-4533-8f26-2a332a321eb3",
   "metadata": {},
   "outputs": [
    {
     "data": {
      "application/vnd.jupyter.widget-view+json": {
       "model_id": "8dcfc3e2c5c7426aa42bb28d268433bd",
       "version_major": 2,
       "version_minor": 0
      },
      "text/plain": [
       "Map (num_proc=8):   0%|          | 0/10635000 [00:00<?, ? examples/s]"
      ]
     },
     "metadata": {},
     "output_type": "display_data"
    }
   ],
   "source": [
    "def preprocess_ru_reviews(example):\n",
    "    texts = example['text']\n",
    "    processed_texts = []\n",
    "    for text in texts:\n",
    "        text = re.sub(r'\\s+', ' ', text)\n",
    "        text = re.sub(r'\\d+', '[NUM]', text)\n",
    "        processed_texts.append(text)\n",
    "    return {'text': processed_texts}\n",
    "\n",
    "ru_reviews_dataset = ru_reviews_dataset.map(preprocess_ru_reviews, batched=True, num_proc=8)"
   ]
  },
  {
   "cell_type": "code",
   "execution_count": 7,
   "id": "74fb538e-3ef0-4378-83d6-e005febfbb5f",
   "metadata": {},
   "outputs": [
    {
     "name": "stdout",
     "output_type": "stream",
     "text": [
      "Количество дубликатов: \u001b[1m1,283,688\u001b[0m\n",
      "Итоговый размер датасета: \u001b[1m9,351,312\u001b[0m\n"
     ]
    }
   ],
   "source": [
    "ru_reviews_dataset.set_format('pandas')\n",
    "ru_reviews_dataset = ru_reviews_dataset[:]\n",
    "print(f\"Количество дубликатов: {Ansi.bold}{ru_reviews_dataset.duplicated().sum():,}{Ansi.end}\")\n",
    "ru_reviews_dataset = ru_reviews_dataset.drop_duplicates()\n",
    "print(f\"Итоговый размер датасета: {Ansi.bold}{ru_reviews_dataset.shape[0]:,}{Ansi.end}\")"
   ]
  },
  {
   "cell_type": "code",
   "execution_count": 10,
   "id": "e0d58d44-c2d8-4c25-b801-6a17b0c83fbe",
   "metadata": {},
   "outputs": [],
   "source": [
    "train, val = train_test_split(ru_reviews_dataset, random_state=SEED, test_size=50000)"
   ]
  },
  {
   "cell_type": "code",
   "execution_count": 11,
   "id": "15d0a4f4-a942-4cc4-a02d-6b7d179e6514",
   "metadata": {},
   "outputs": [],
   "source": [
    "train.to_csv('data/ru_reviews_train.csv', index=False)\n",
    "val.to_csv('data/ru_reviews_val.csv', index=False)"
   ]
  },
  {
   "cell_type": "code",
   "execution_count": null,
   "id": "1227ed2d-b81b-4d68-aa81-23c2be2e2b7b",
   "metadata": {},
   "outputs": [],
   "source": []
  }
 ],
 "metadata": {
  "kernelspec": {
   "display_name": "Python 3 (ipykernel)",
   "language": "python",
   "name": "python3"
  },
  "language_info": {
   "codemirror_mode": {
    "name": "ipython",
    "version": 3
   },
   "file_extension": ".py",
   "mimetype": "text/x-python",
   "name": "python",
   "nbconvert_exporter": "python",
   "pygments_lexer": "ipython3",
   "version": "3.11.11"
  }
 },
 "nbformat": 4,
 "nbformat_minor": 5
}
